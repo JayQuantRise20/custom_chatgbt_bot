{
 "cells": [
  {
   "cell_type": "markdown",
   "id": "124e5672",
   "metadata": {},
   "source": [
    "# Custom Chatbot Project"
   ]
  },
  {
   "cell_type": "markdown",
   "id": "2a4a94b3",
   "metadata": {},
   "source": [
    "TODO: In this cell, write an explanation of which dataset you have chosen and why it is appropriate for this task"
   ]
  },
  {
   "cell_type": "markdown",
   "id": "a63d4c5f",
   "metadata": {},
   "source": [
    "## Data Wrangling\n",
    "\n",
    "TODO: In the cells below, load your chosen dataset into a `pandas` dataframe with a column named `\"text\"`. This column should contain all of your text data, separated into at least 20 rows."
   ]
  },
  {
   "cell_type": "code",
   "execution_count": 2,
   "id": "a93d9142",
   "metadata": {},
   "outputs": [],
   "source": [
    "import pandas as pd"
   ]
  },
  {
   "cell_type": "code",
   "execution_count": 13,
   "id": "c69b83a1",
   "metadata": {},
   "outputs": [
    {
     "data": {
      "text/html": [
       "<div>\n",
       "<style scoped>\n",
       "    .dataframe tbody tr th:only-of-type {\n",
       "        vertical-align: middle;\n",
       "    }\n",
       "\n",
       "    .dataframe tbody tr th {\n",
       "        vertical-align: top;\n",
       "    }\n",
       "\n",
       "    .dataframe thead th {\n",
       "        text-align: right;\n",
       "    }\n",
       "</style>\n",
       "<table border=\"1\" class=\"dataframe\">\n",
       "  <thead>\n",
       "    <tr style=\"text-align: right;\">\n",
       "      <th></th>\n",
       "      <th>Name</th>\n",
       "      <th>Description</th>\n",
       "      <th>Medium</th>\n",
       "      <th>Setting</th>\n",
       "    </tr>\n",
       "  </thead>\n",
       "  <tbody>\n",
       "    <tr>\n",
       "      <th>0</th>\n",
       "      <td>Emily</td>\n",
       "      <td>A young woman in her early 20s, Emily is an as...</td>\n",
       "      <td>Play</td>\n",
       "      <td>England</td>\n",
       "    </tr>\n",
       "    <tr>\n",
       "      <th>1</th>\n",
       "      <td>Jack</td>\n",
       "      <td>A middle-aged man in his 40s, Jack is a succes...</td>\n",
       "      <td>Play</td>\n",
       "      <td>England</td>\n",
       "    </tr>\n",
       "    <tr>\n",
       "      <th>2</th>\n",
       "      <td>Alice</td>\n",
       "      <td>A woman in her late 30s, Alice is a warm and n...</td>\n",
       "      <td>Play</td>\n",
       "      <td>England</td>\n",
       "    </tr>\n",
       "    <tr>\n",
       "      <th>3</th>\n",
       "      <td>Tom</td>\n",
       "      <td>A man in his 50s, Tom is a retired soldier and...</td>\n",
       "      <td>Play</td>\n",
       "      <td>England</td>\n",
       "    </tr>\n",
       "    <tr>\n",
       "      <th>4</th>\n",
       "      <td>Sarah</td>\n",
       "      <td>A woman in her mid-20s, Sarah is a free-spirit...</td>\n",
       "      <td>Play</td>\n",
       "      <td>England</td>\n",
       "    </tr>\n",
       "  </tbody>\n",
       "</table>\n",
       "</div>"
      ],
      "text/plain": [
       "    Name                                        Description Medium  Setting\n",
       "0  Emily  A young woman in her early 20s, Emily is an as...   Play  England\n",
       "1   Jack  A middle-aged man in his 40s, Jack is a succes...   Play  England\n",
       "2  Alice  A woman in her late 30s, Alice is a warm and n...   Play  England\n",
       "3    Tom  A man in his 50s, Tom is a retired soldier and...   Play  England\n",
       "4  Sarah  A woman in her mid-20s, Sarah is a free-spirit...   Play  England"
      ]
     },
     "execution_count": 13,
     "metadata": {},
     "output_type": "execute_result"
    }
   ],
   "source": [
    "df = pd.read_csv('data/character_descriptions.csv')\n",
    "df.tail()"
   ]
  },
  {
   "cell_type": "code",
   "execution_count": 28,
   "id": "0a595980",
   "metadata": {},
   "outputs": [],
   "source": [
    "df['text'] = df['Name'] + \\\n",
    "    ': ' + df['Description'] + ' Medium: ' \\\n",
    "    +  df['Medium'] + \\\n",
    "        ' Setting: ' + df['Setting']"
   ]
  },
  {
   "cell_type": "code",
   "execution_count": 136,
   "id": "acb3a9fd",
   "metadata": {},
   "outputs": [
    {
     "data": {
      "text/html": [
       "<div>\n",
       "<style scoped>\n",
       "    .dataframe tbody tr th:only-of-type {\n",
       "        vertical-align: middle;\n",
       "    }\n",
       "\n",
       "    .dataframe tbody tr th {\n",
       "        vertical-align: top;\n",
       "    }\n",
       "\n",
       "    .dataframe thead th {\n",
       "        text-align: right;\n",
       "    }\n",
       "</style>\n",
       "<table border=\"1\" class=\"dataframe\">\n",
       "  <thead>\n",
       "    <tr style=\"text-align: right;\">\n",
       "      <th></th>\n",
       "      <th>Name</th>\n",
       "      <th>Description</th>\n",
       "      <th>Medium</th>\n",
       "      <th>Setting</th>\n",
       "      <th>text</th>\n",
       "      <th>embeddings</th>\n",
       "      <th>distances</th>\n",
       "    </tr>\n",
       "  </thead>\n",
       "  <tbody>\n",
       "    <tr>\n",
       "      <th>48</th>\n",
       "      <td>Antonio</td>\n",
       "      <td>A sea captain who rescues Sebastian from the s...</td>\n",
       "      <td>Play</td>\n",
       "      <td>Ancient Greece</td>\n",
       "      <td>Antonio: A sea captain who rescues Sebastian f...</td>\n",
       "      <td>[-0.0019626300781965256, -0.03169017285108566,...</td>\n",
       "      <td>0.289900</td>\n",
       "    </tr>\n",
       "    <tr>\n",
       "      <th>44</th>\n",
       "      <td>Sir Andrew Aguecheek</td>\n",
       "      <td>A dim-witted and gullible nobleman who is brou...</td>\n",
       "      <td>Play</td>\n",
       "      <td>Ancient Greece</td>\n",
       "      <td>Sir Andrew Aguecheek: A dim-witted and gullibl...</td>\n",
       "      <td>[-0.024965493008494377, -0.0236018318682909, 0...</td>\n",
       "      <td>0.294769</td>\n",
       "    </tr>\n",
       "    <tr>\n",
       "      <th>34</th>\n",
       "      <td>Prince Lorenzo</td>\n",
       "      <td>A charming and handsome prince who has recentl...</td>\n",
       "      <td>Opera</td>\n",
       "      <td>Italy</td>\n",
       "      <td>Prince Lorenzo: A charming and handsome prince...</td>\n",
       "      <td>[-0.00457723718136549, -0.010547829791903496, ...</td>\n",
       "      <td>0.296010</td>\n",
       "    </tr>\n",
       "    <tr>\n",
       "      <th>38</th>\n",
       "      <td>Don Carlo</td>\n",
       "      <td>A charming and charismatic young man who is of...</td>\n",
       "      <td>Opera</td>\n",
       "      <td>Italy</td>\n",
       "      <td>Don Carlo: A charming and charismatic young ma...</td>\n",
       "      <td>[-0.01118087861686945, -0.010726531967520714, ...</td>\n",
       "      <td>0.300988</td>\n",
       "    </tr>\n",
       "    <tr>\n",
       "      <th>36</th>\n",
       "      <td>Baron Gustavo</td>\n",
       "      <td>A wealthy and arrogant nobleman who loves to f...</td>\n",
       "      <td>Opera</td>\n",
       "      <td>Italy</td>\n",
       "      <td>Baron Gustavo: A wealthy and arrogant nobleman...</td>\n",
       "      <td>[-0.022414058446884155, -0.0189004335552454, 0...</td>\n",
       "      <td>0.313140</td>\n",
       "    </tr>\n",
       "  </tbody>\n",
       "</table>\n",
       "</div>"
      ],
      "text/plain": [
       "                    Name                                        Description  \\\n",
       "48               Antonio  A sea captain who rescues Sebastian from the s...   \n",
       "44  Sir Andrew Aguecheek  A dim-witted and gullible nobleman who is brou...   \n",
       "34        Prince Lorenzo  A charming and handsome prince who has recentl...   \n",
       "38             Don Carlo  A charming and charismatic young man who is of...   \n",
       "36         Baron Gustavo  A wealthy and arrogant nobleman who loves to f...   \n",
       "\n",
       "   Medium         Setting                                               text  \\\n",
       "48   Play  Ancient Greece  Antonio: A sea captain who rescues Sebastian f...   \n",
       "44   Play  Ancient Greece  Sir Andrew Aguecheek: A dim-witted and gullibl...   \n",
       "34  Opera           Italy  Prince Lorenzo: A charming and handsome prince...   \n",
       "38  Opera           Italy  Don Carlo: A charming and charismatic young ma...   \n",
       "36  Opera           Italy  Baron Gustavo: A wealthy and arrogant nobleman...   \n",
       "\n",
       "                                           embeddings  distances  \n",
       "48  [-0.0019626300781965256, -0.03169017285108566,...   0.289900  \n",
       "44  [-0.024965493008494377, -0.0236018318682909, 0...   0.294769  \n",
       "34  [-0.00457723718136549, -0.010547829791903496, ...   0.296010  \n",
       "38  [-0.01118087861686945, -0.010726531967520714, ...   0.300988  \n",
       "36  [-0.022414058446884155, -0.0189004335552454, 0...   0.313140  "
      ]
     },
     "execution_count": 136,
     "metadata": {},
     "output_type": "execute_result"
    }
   ],
   "source": [
    "df.tail()"
   ]
  },
  {
   "cell_type": "markdown",
   "id": "ae769871",
   "metadata": {},
   "source": [
    "## Custom Query Completion\n",
    "\n",
    "TODO: In the cells below, compose a custom query using your chosen dataset and retrieve results from an OpenAI `Completion` model. You may copy and paste any useful code from the course materials."
   ]
  },
  {
   "cell_type": "code",
   "execution_count": 30,
   "id": "afd477c4",
   "metadata": {},
   "outputs": [
    {
     "data": {
      "text/plain": [
       "\"Emily: A young woman in her early 20s, Emily is an aspiring actress and Alice's daughter. She has a bubbly personality and a quick wit, but struggles with self-doubt and insecurity. She's also in a relationship with George. Medium: Play Setting: England\""
      ]
     },
     "execution_count": 30,
     "metadata": {},
     "output_type": "execute_result"
    }
   ],
   "source": [
    "df['text'].iloc[0]"
   ]
  },
  {
   "cell_type": "code",
   "execution_count": 87,
   "id": "582f0656",
   "metadata": {},
   "outputs": [],
   "source": [
    "question = \"what setting Emily is active on?\""
   ]
  },
  {
   "cell_type": "code",
   "execution_count": 31,
   "id": "8b6e1f75",
   "metadata": {},
   "outputs": [],
   "source": [
    "import openai\n",
    "openai.api_key = \"api-key\""
   ]
  },
  {
   "cell_type": "code",
   "execution_count": 34,
   "id": "13f2dcd7",
   "metadata": {},
   "outputs": [],
   "source": [
    "response = openai.Completion.create(\n",
    "    model = \"gpt-3.5-turbo-instruct\",\n",
    "    prompt=question,\n",
    "    max_tokens=150,\n",
    "    )"
   ]
  },
  {
   "cell_type": "code",
   "execution_count": 38,
   "id": "c403f543",
   "metadata": {},
   "outputs": [
    {
     "data": {
      "text/plain": [
       "\"\\nI'm sorry, I am not sure what you are referring to. Can you please provide more context or information? Thank you.\""
      ]
     },
     "execution_count": 38,
     "metadata": {},
     "output_type": "execute_result"
    }
   ],
   "source": [
    "response['choices'][0]['text']"
   ]
  },
  {
   "cell_type": "code",
   "execution_count": 41,
   "id": "74280b92",
   "metadata": {},
   "outputs": [],
   "source": [
    "EMBEDDING_MODEL_NAME = 'text-embedding-ada-002'\n",
    "response = openai.Embedding.create(\n",
    "        input = df['text'].tolist(),\n",
    "        model=EMBEDDING_MODEL_NAME\n",
    "        )"
   ]
  },
  {
   "cell_type": "code",
   "execution_count": 56,
   "id": "934c313a",
   "metadata": {},
   "outputs": [
    {
     "data": {
      "text/plain": [
       "1536"
      ]
     },
     "execution_count": 56,
     "metadata": {},
     "output_type": "execute_result"
    }
   ],
   "source": [
    "len(response['data'][0]['embedding'])"
   ]
  },
  {
   "cell_type": "code",
   "execution_count": 52,
   "id": "80770b0e",
   "metadata": {},
   "outputs": [],
   "source": [
    "embeddings = [data['embedding'] for data in response['data'] ]"
   ]
  },
  {
   "cell_type": "code",
   "execution_count": 54,
   "id": "f2c1f90d",
   "metadata": {},
   "outputs": [],
   "source": [
    "df['embeddings'] = embeddings"
   ]
  },
  {
   "cell_type": "code",
   "execution_count": 57,
   "id": "6f1fb544",
   "metadata": {},
   "outputs": [],
   "source": [
    "from openai.embeddings_utils import get_embedding"
   ]
  },
  {
   "cell_type": "code",
   "execution_count": 59,
   "id": "e0fbc511",
   "metadata": {},
   "outputs": [],
   "source": [
    "EMBEDDING_MODEL_NAME = 'text-embedding-ada-002'\n",
    "question_embedding = get_embedding(question,engine =EMBEDDING_MODEL_NAME )"
   ]
  },
  {
   "cell_type": "code",
   "execution_count": 63,
   "id": "3368cd70",
   "metadata": {},
   "outputs": [],
   "source": [
    "from openai.embeddings_utils import distances_from_embeddings"
   ]
  },
  {
   "cell_type": "code",
   "execution_count": 65,
   "id": "83e9b86e",
   "metadata": {},
   "outputs": [],
   "source": [
    "distances  = distances_from_embeddings(question_embedding,\n",
    "                        df['embeddings'].tolist(),distance_metric='cosine')"
   ]
  },
  {
   "cell_type": "code",
   "execution_count": 67,
   "id": "464507a9",
   "metadata": {},
   "outputs": [],
   "source": [
    "df['distances'] = distances"
   ]
  },
  {
   "cell_type": "code",
   "execution_count": 69,
   "id": "ef20930a",
   "metadata": {},
   "outputs": [],
   "source": [
    "df  =df.sort_values(by='distances')"
   ]
  },
  {
   "cell_type": "code",
   "execution_count": 116,
   "id": "c2ce6248",
   "metadata": {},
   "outputs": [],
   "source": [
    "prompt_template = \"\"\"\n",
    "Answer the question based on the context below, and if the \n",
    "question can't be answered based on the context, say \n",
    "\"I don't know\"\n",
    "\n",
    "Context: \n",
    "\n",
    "{}\n",
    "\n",
    "---\n",
    "\n",
    "Question: {}\n",
    "Answer:\"\"\"\n",
    "\n"
   ]
  },
  {
   "cell_type": "code",
   "execution_count": 90,
   "id": "8bde60a0",
   "metadata": {},
   "outputs": [],
   "source": [
    "# prompt_template = prompt_template.format('context' , question)"
   ]
  },
  {
   "cell_type": "code",
   "execution_count": 72,
   "id": "0a510620",
   "metadata": {},
   "outputs": [],
   "source": [
    "import tiktoken\n",
    "tokenizer = tiktoken.get_encoding(\"cl100k_base\")"
   ]
  },
  {
   "cell_type": "code",
   "execution_count": 96,
   "id": "2672a512",
   "metadata": {},
   "outputs": [
    {
     "data": {
      "text/plain": [
       "48"
      ]
     },
     "execution_count": 96,
     "metadata": {},
     "output_type": "execute_result"
    }
   ],
   "source": [
    "current_token_count = len(tokenizer.encode(prompt_template))\n",
    "current_token_count"
   ]
  },
  {
   "cell_type": "code",
   "execution_count": 120,
   "id": "a1cb9f08",
   "metadata": {},
   "outputs": [],
   "source": [
    "max_token_count = 1000\n",
    "context = []\n",
    "for text in df['text'].values:\n",
    "    text_token_count = len(tokenizer.encode(text))\n",
    "    if current_token_count <=max_token_count:\n",
    "        context.append(text)\n",
    "        current_token_count +=text_token_count\n",
    "    else:\n",
    "        break"
   ]
  },
  {
   "cell_type": "code",
   "execution_count": null,
   "id": "79f05896",
   "metadata": {},
   "outputs": [],
   "source": []
  },
  {
   "cell_type": "code",
   "execution_count": 118,
   "id": "b6127a08",
   "metadata": {},
   "outputs": [],
   "source": [
    "prompt_template = prompt_template.format(\"\\n\\n###\\n\\n\".join(context) , question)"
   ]
  },
  {
   "cell_type": "code",
   "execution_count": 123,
   "id": "3bb7b5d7",
   "metadata": {},
   "outputs": [
    {
     "data": {
      "text/plain": [
       "' Play Setting: England'"
      ]
     },
     "execution_count": 123,
     "metadata": {},
     "output_type": "execute_result"
    }
   ],
   "source": [
    "openai.Completion.create(\n",
    "    model = \"gpt-3.5-turbo-instruct\",\n",
    "    prompt=prompt_template\n",
    "    )['choices'][0]['text']"
   ]
  },
  {
   "cell_type": "code",
   "execution_count": 127,
   "id": "adbb5996",
   "metadata": {},
   "outputs": [],
   "source": [
    "from openai.embeddings_utils import get_embedding, distances_from_embeddings\n",
    "\n",
    "def get_rows_sorted_by_relevance(question, df):\n",
    "    \"\"\"\n",
    "    Function that takes in a question string and a dataframe containing\n",
    "    rows of text and associated embeddings, and returns that dataframe\n",
    "    sorted from least to most relevant for that question\n",
    "    \"\"\"\n",
    "    \n",
    "    # Get embeddings for the question text\n",
    "    question_embeddings = get_embedding(question, engine=EMBEDDING_MODEL_NAME)\n",
    "    \n",
    "    # Make a copy of the dataframe and add a \"distances\" column containing\n",
    "    # the cosine distances between each row's embeddings and the\n",
    "    # embeddings of the question\n",
    "    df_copy = df.copy()\n",
    "    df_copy[\"distances\"] = distances_from_embeddings(\n",
    "        question_embeddings,\n",
    "        df_copy[\"embeddings\"].values,\n",
    "        distance_metric=\"cosine\"\n",
    "    )\n",
    "    \n",
    "    # Sort the copied dataframe by the distances and return it\n",
    "    # (shorter distance = more relevant so we sort in ascending order)\n",
    "    df_copy.sort_values(\"distances\", ascending=True, inplace=True)\n",
    "    return df_copy"
   ]
  },
  {
   "cell_type": "code",
   "execution_count": 128,
   "id": "7cb0efea",
   "metadata": {},
   "outputs": [],
   "source": [
    "import tiktoken\n",
    "\n",
    "def create_prompt(question, df, max_token_count):\n",
    "    \"\"\"\n",
    "    Given a question and a dataframe containing rows of text and their\n",
    "    embeddings, return a text prompt to send to a Completion model\n",
    "    \"\"\"\n",
    "    # Create a tokenizer that is designed to align with our embeddings\n",
    "    tokenizer = tiktoken.get_encoding(\"cl100k_base\")\n",
    "    \n",
    "    # Count the number of tokens in the prompt template and question\n",
    "    prompt_template = \"\"\"\n",
    "        Answer the question based on the context below, and if the question\n",
    "        can't be answered based on the context, say \"I don't know\"\n",
    "\n",
    "        Context: \n",
    "\n",
    "        {}\n",
    "\n",
    "        ---\n",
    "\n",
    "        Question: {}\n",
    "        Answer:\"\"\"\n",
    "    \n",
    "    current_token_count = len(tokenizer.encode(prompt_template)) + \\\n",
    "                            len(tokenizer.encode(question))\n",
    "    \n",
    "    context = []\n",
    "    for text in get_rows_sorted_by_relevance(question, df)[\"text\"].values:\n",
    "        \n",
    "        # Increase the counter based on the number of tokens in this row\n",
    "        text_token_count = len(tokenizer.encode(text))\n",
    "        current_token_count += text_token_count\n",
    "        \n",
    "        # Add the row of text to the list if we haven't exceeded the max\n",
    "        if current_token_count <= max_token_count:\n",
    "            context.append(text)\n",
    "        else:\n",
    "            break\n",
    "\n",
    "    return prompt_template.format(\"\\n\\n###\\n\\n\".join(context), question)"
   ]
  },
  {
   "cell_type": "code",
   "execution_count": 129,
   "id": "54ea1f72",
   "metadata": {},
   "outputs": [],
   "source": [
    "COMPLETION_MODEL_NAME = \"gpt-3.5-turbo-instruct\"\n",
    "\n",
    "def answer_question(\n",
    "    question, df, max_prompt_tokens=1800, max_answer_tokens=150\n",
    "):\n",
    "    \"\"\"\n",
    "    Given a question, a dataframe containing rows of text, and a maximum\n",
    "    number of desired tokens in the prompt and response, return the\n",
    "    answer to the question according to an OpenAI Completion model\n",
    "    \n",
    "    If the model produces an error, return an empty string\n",
    "    \"\"\"\n",
    "    \n",
    "    prompt = create_prompt(question, df, max_prompt_tokens)\n",
    "    \n",
    "    try:\n",
    "        response = openai.Completion.create(\n",
    "            model=COMPLETION_MODEL_NAME,\n",
    "            prompt=prompt,\n",
    "            max_tokens=max_answer_tokens\n",
    "        )\n",
    "        return response[\"choices\"][0][\"text\"].strip()\n",
    "    except Exception as e:\n",
    "        print(e)\n",
    "        return \"\"\n",
    "        "
   ]
  },
  {
   "cell_type": "code",
   "execution_count": 132,
   "id": "c52f223f",
   "metadata": {},
   "outputs": [],
   "source": [
    "Answer = answer_question(question, df)"
   ]
  },
  {
   "cell_type": "code",
   "execution_count": 139,
   "id": "68e4a5ee",
   "metadata": {},
   "outputs": [
    {
     "data": {
      "text/plain": [
       "'Play Setting: England'"
      ]
     },
     "execution_count": 139,
     "metadata": {},
     "output_type": "execute_result"
    }
   ],
   "source": [
    "Answer"
   ]
  },
  {
   "cell_type": "markdown",
   "id": "1783f146",
   "metadata": {},
   "source": [
    "## Custom Performance Demonstration\n",
    "\n",
    "TODO: In the cells below, demonstrate the performance of your custom query using at least 2 questions. For each question, show the answer from a basic `Completion` model query as well as the answer from your custom query."
   ]
  },
  {
   "cell_type": "markdown",
   "id": "4f11fdc0",
   "metadata": {},
   "source": [
    "### Question 1"
   ]
  },
  {
   "cell_type": "code",
   "execution_count": 137,
   "id": "3e84aa6c",
   "metadata": {},
   "outputs": [],
   "source": [
    "question1 = 'what medium Baron Gustavo is active on?'"
   ]
  },
  {
   "cell_type": "code",
   "execution_count": 145,
   "id": "4901c850",
   "metadata": {},
   "outputs": [
    {
     "data": {
      "text/plain": [
       "'\\n\\nThere is limited information available about Baron Gustavo, so it is not possible to determine what specific mediums he may be active on.'"
      ]
     },
     "execution_count": 145,
     "metadata": {},
     "output_type": "execute_result"
    }
   ],
   "source": [
    "response = openai.Completion.create(\n",
    "    model = \"gpt-3.5-turbo-instruct\",\n",
    "    prompt=question1,\n",
    "    max_tokens=150,\n",
    "    )['choices'][0]['text']\n",
    "response"
   ]
  },
  {
   "cell_type": "code",
   "execution_count": 142,
   "id": "bd7a093b",
   "metadata": {},
   "outputs": [
    {
     "data": {
      "text/plain": [
       "'Opera'"
      ]
     },
     "execution_count": 142,
     "metadata": {},
     "output_type": "execute_result"
    }
   ],
   "source": [
    "custom_answer  =  answer_question(question1, df)\n",
    "custom_answer"
   ]
  },
  {
   "cell_type": "markdown",
   "id": "6e86e37c",
   "metadata": {},
   "source": [
    "### Question 2"
   ]
  },
  {
   "cell_type": "code",
   "execution_count": 144,
   "id": "6f646989",
   "metadata": {},
   "outputs": [],
   "source": [
    "question2 = 'in which country or setting Prince Lorenzo is active?'"
   ]
  },
  {
   "cell_type": "code",
   "execution_count": 146,
   "id": "11c07a54",
   "metadata": {},
   "outputs": [
    {
     "data": {
      "text/plain": [
       "'\\n\\nPrince Lorenzo does not appear to be an active member of a royal family or political figure. Therefore, he is not associated with any specific country or setting.'"
      ]
     },
     "execution_count": 146,
     "metadata": {},
     "output_type": "execute_result"
    }
   ],
   "source": [
    "response = openai.Completion.create(\n",
    "    model = \"gpt-3.5-turbo-instruct\",\n",
    "    prompt=question2,\n",
    "    max_tokens=150,\n",
    "    )['choices'][0]['text']\n",
    "response"
   ]
  },
  {
   "cell_type": "code",
   "execution_count": 147,
   "id": "8b0a4b1b",
   "metadata": {},
   "outputs": [
    {
     "data": {
      "text/plain": [
       "'Italy'"
      ]
     },
     "execution_count": 147,
     "metadata": {},
     "output_type": "execute_result"
    }
   ],
   "source": [
    "custom_answer  =  answer_question(question2, df)\n",
    "custom_answer"
   ]
  }
 ],
 "metadata": {
  "kernelspec": {
   "display_name": "Python 3 (ipykernel)",
   "language": "python",
   "name": "python3"
  },
  "language_info": {
   "codemirror_mode": {
    "name": "ipython",
    "version": 3
   },
   "file_extension": ".py",
   "mimetype": "text/x-python",
   "name": "python",
   "nbconvert_exporter": "python",
   "pygments_lexer": "ipython3",
   "version": "3.9.7"
  }
 },
 "nbformat": 4,
 "nbformat_minor": 5
}
